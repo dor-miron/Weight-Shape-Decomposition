{
 "cells": [
  {
   "cell_type": "code",
   "execution_count": 24,
   "metadata": {
    "collapsed": true
   },
   "outputs": [],
   "source": [
    "import pandas as pd\n",
    "import numpy as np\n",
    "from scipy.optimize import curve_fit\n",
    "from matplotlib import pyplot as plt\n",
    "from sklearn import gaussian_process as gp\n",
    "\n",
    "DE_PRED = 'min_delta_E_Pred'\n",
    "DE_TRUE = 'minimal_delta_E_True'\n",
    "Z = 'Z'\n",
    "TRUE_N = 'True_N'\n",
    "PRED_N = 'Pred_N'\n",
    "ERROR = 'error'\n",
    "df = pd.read_csv(r'C:\\Users\\dor00\\PycharmProjects\\Weight-Shape-Decomposition\\data_processed\\test1_1toinf')\n",
    "\n"
   ]
  },
  {
   "cell_type": "code",
   "execution_count": 21,
   "outputs": [
    {
     "data": {
      "text/plain": "     Unnamed: 0      id   Z  True_N  Pred_N  minimal_delta_E_True  \\\n0             0  05_818  10      48      28              0.000926   \n1             1  05_819  10      22      25              0.002306   \n2             2  05_347  10       1       3              0.000000   \n3             3  05_342  10       1       3              0.000000   \n4             4  05_343  10       2       4              1.537959   \n..          ...     ...  ..     ...     ...                   ...   \n907         907  08_533  10       1       1              0.000000   \n908         908  08_411  10       1       3              0.000000   \n909         909  08_923  10       2       4              1.372027   \n910         910  08_805  10       1       2              0.000000   \n911         911  08_516  10       1       4              0.000000   \n\n     min_delta_E_Pred    sum_3d  \n0            0.045779  3.173001  \n1            0.023761  0.935793  \n2            0.161087  0.047746  \n3            0.279175  0.079399  \n4            0.050911  0.099939  \n..                ...       ...  \n907          0.000000  0.041057  \n908          0.145874  0.068929  \n909          0.318598  0.146888  \n910          1.248131  0.072879  \n911          0.083305  0.054255  \n\n[912 rows x 8 columns]",
      "text/html": "<div>\n<style scoped>\n    .dataframe tbody tr th:only-of-type {\n        vertical-align: middle;\n    }\n\n    .dataframe tbody tr th {\n        vertical-align: top;\n    }\n\n    .dataframe thead th {\n        text-align: right;\n    }\n</style>\n<table border=\"1\" class=\"dataframe\">\n  <thead>\n    <tr style=\"text-align: right;\">\n      <th></th>\n      <th>Unnamed: 0</th>\n      <th>id</th>\n      <th>Z</th>\n      <th>True_N</th>\n      <th>Pred_N</th>\n      <th>minimal_delta_E_True</th>\n      <th>min_delta_E_Pred</th>\n      <th>sum_3d</th>\n    </tr>\n  </thead>\n  <tbody>\n    <tr>\n      <th>0</th>\n      <td>0</td>\n      <td>05_818</td>\n      <td>10</td>\n      <td>48</td>\n      <td>28</td>\n      <td>0.000926</td>\n      <td>0.045779</td>\n      <td>3.173001</td>\n    </tr>\n    <tr>\n      <th>1</th>\n      <td>1</td>\n      <td>05_819</td>\n      <td>10</td>\n      <td>22</td>\n      <td>25</td>\n      <td>0.002306</td>\n      <td>0.023761</td>\n      <td>0.935793</td>\n    </tr>\n    <tr>\n      <th>2</th>\n      <td>2</td>\n      <td>05_347</td>\n      <td>10</td>\n      <td>1</td>\n      <td>3</td>\n      <td>0.000000</td>\n      <td>0.161087</td>\n      <td>0.047746</td>\n    </tr>\n    <tr>\n      <th>3</th>\n      <td>3</td>\n      <td>05_342</td>\n      <td>10</td>\n      <td>1</td>\n      <td>3</td>\n      <td>0.000000</td>\n      <td>0.279175</td>\n      <td>0.079399</td>\n    </tr>\n    <tr>\n      <th>4</th>\n      <td>4</td>\n      <td>05_343</td>\n      <td>10</td>\n      <td>2</td>\n      <td>4</td>\n      <td>1.537959</td>\n      <td>0.050911</td>\n      <td>0.099939</td>\n    </tr>\n    <tr>\n      <th>...</th>\n      <td>...</td>\n      <td>...</td>\n      <td>...</td>\n      <td>...</td>\n      <td>...</td>\n      <td>...</td>\n      <td>...</td>\n      <td>...</td>\n    </tr>\n    <tr>\n      <th>907</th>\n      <td>907</td>\n      <td>08_533</td>\n      <td>10</td>\n      <td>1</td>\n      <td>1</td>\n      <td>0.000000</td>\n      <td>0.000000</td>\n      <td>0.041057</td>\n    </tr>\n    <tr>\n      <th>908</th>\n      <td>908</td>\n      <td>08_411</td>\n      <td>10</td>\n      <td>1</td>\n      <td>3</td>\n      <td>0.000000</td>\n      <td>0.145874</td>\n      <td>0.068929</td>\n    </tr>\n    <tr>\n      <th>909</th>\n      <td>909</td>\n      <td>08_923</td>\n      <td>10</td>\n      <td>2</td>\n      <td>4</td>\n      <td>1.372027</td>\n      <td>0.318598</td>\n      <td>0.146888</td>\n    </tr>\n    <tr>\n      <th>910</th>\n      <td>910</td>\n      <td>08_805</td>\n      <td>10</td>\n      <td>1</td>\n      <td>2</td>\n      <td>0.000000</td>\n      <td>1.248131</td>\n      <td>0.072879</td>\n    </tr>\n    <tr>\n      <th>911</th>\n      <td>911</td>\n      <td>08_516</td>\n      <td>10</td>\n      <td>1</td>\n      <td>4</td>\n      <td>0.000000</td>\n      <td>0.083305</td>\n      <td>0.054255</td>\n    </tr>\n  </tbody>\n</table>\n<p>912 rows × 8 columns</p>\n</div>"
     },
     "execution_count": 21,
     "metadata": {},
     "output_type": "execute_result"
    }
   ],
   "source": [
    "df"
   ],
   "metadata": {
    "collapsed": false,
    "pycharm": {
     "name": "#%%\n"
    }
   }
  },
  {
   "cell_type": "code",
   "execution_count": 27,
   "outputs": [
    {
     "data": {
      "text/plain": "[<matplotlib.lines.Line2D at 0x1d5587e4730>]"
     },
     "execution_count": 27,
     "metadata": {},
     "output_type": "execute_result"
    },
    {
     "data": {
      "text/plain": "<Figure size 432x288 with 1 Axes>",
      "image/png": "[encoded data removed]"
     },
     "metadata": {
      "needs_background": "light"
     },
     "output_type": "display_data"
    }
   ],
   "source": [
    "def linear(x, a, b):\n",
    "    return a * x + b\n",
    "\n",
    "x_name = TRUE_N\n",
    "y_name = 'sum_3d'\n",
    "popt, pcov = curve_fit(linear, df[x_name], df[y_name])\n",
    "y_pred = linear(df[x_name], *popt)\n",
    "\n",
    "ax = df.plot(y='sum_3d', x=TRUE_N, style='.')\n",
    "ax.plot(df[x_name], y_pred)"
   ],
   "metadata": {
    "collapsed": false,
    "pycharm": {
     "name": "#%%\n"
    }
   }
  },
  {
   "cell_type": "code",
   "execution_count": 35,
   "outputs": [
    {
     "ename": "IndexError",
     "evalue": "too many indices for array: array is 1-dimensional, but 2 were indexed",
     "output_type": "error",
     "traceback": [
      "\u001B[1;31m---------------------------------------------------------------------------\u001B[0m",
      "\u001B[1;31mIndexError\u001B[0m                                Traceback (most recent call last)",
      "Input \u001B[1;32mIn [35]\u001B[0m, in \u001B[0;36m<module>\u001B[1;34m\u001B[0m\n\u001B[0;32m      5\u001B[0m params \u001B[38;5;241m=\u001B[39m model\u001B[38;5;241m.\u001B[39mkernel_\u001B[38;5;241m.\u001B[39mget_params()\n\u001B[0;32m      6\u001B[0m y_pred, std \u001B[38;5;241m=\u001B[39m model\u001B[38;5;241m.\u001B[39mpredict(x[:, np\u001B[38;5;241m.\u001B[39mnewaxis], return_std\u001B[38;5;241m=\u001B[39m\u001B[38;5;28;01mTrue\u001B[39;00m)\n\u001B[1;32m----> 7\u001B[0m plt\u001B[38;5;241m.\u001B[39mplot(df[x_name], \u001B[43mstd\u001B[49m\u001B[43m[\u001B[49m\u001B[38;5;241;43m0\u001B[39;49m\u001B[43m,\u001B[49m\u001B[43m \u001B[49m\u001B[43m:\u001B[49m\u001B[43m]\u001B[49m)\n",
      "\u001B[1;31mIndexError\u001B[0m: too many indices for array: array is 1-dimensional, but 2 were indexed"
     ]
    }
   ],
   "source": [
    "kernel = gp.kernels.ConstantKernel(1.0, (1e-1, 1e3)) * gp.kernels.RBF(10.0, (1e-3, 1e3))\n",
    "model = gp.GaussianProcessRegressor(kernel=kernel, n_restarts_optimizer=10, alpha=0.1, normalize_y=True)\n",
    "x, y = df[x_name].to_numpy(), df[y_name].to_numpy()\n",
    "model.fit(x[:, np.newaxis], y[:, np.newaxis])\n",
    "params = model.kernel_.get_params()\n",
    "y_pred, std = model.predict(x[:, np.newaxis], return_std=True)\n",
    "plt.plot(df[x_name], std[0, :])\n",
    "# test = df[x_name][:, np.newaxis]"
   ],
   "metadata": {
    "collapsed": false,
    "pycharm": {
     "name": "#%%\n"
    }
   }
  },
  {
   "cell_type": "code",
   "execution_count": null,
   "outputs": [],
   "source": [
    "df.plot(x=DE_TRUE, y=ERROR, style='.', color=(1, 0, 0, 0.1))\n",
    "plt.show()"
   ],
   "metadata": {
    "collapsed": false,
    "pycharm": {
     "name": "#%%\n"
    }
   }
  }
 ],
 "metadata": {
  "kernelspec": {
   "display_name": "Python 3",
   "language": "python",
   "name": "python3"
  },
  "language_info": {
   "codemirror_mode": {
    "name": "ipython",
    "version": 2
   },
   "file_extension": ".py",
   "mimetype": "text/x-python",
   "name": "python",
   "nbconvert_exporter": "python",
   "pygments_lexer": "ipython2",
   "version": "2.7.6"
  }
 },
 "nbformat": 4,
 "nbformat_minor": 0
}