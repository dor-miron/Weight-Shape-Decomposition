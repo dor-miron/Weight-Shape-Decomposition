{
 "cells": [
  {
   "cell_type": "code",
   "execution_count": 1,
   "metadata": {
    "collapsed": true
   },
   "outputs": [],
   "source": [
    "import pandas as pd\n",
    "import numpy as np\n",
    "from scipy.optimize import curve_fit\n",
    "from matplotlib import pyplot as plt\n",
    "from sklearn import gaussian_process as gp\n",
    "\n",
    "DE_PRED = 'min_delta_E_Pred'\n",
    "DE_TRUE = 'minimal_delta_E_True'\n",
    "Z = 'Z'\n",
    "TRUE_N = 'True_N'\n",
    "PRED_N = 'Pred_N'\n",
    "ERROR = 'error'\n",
    "df = pd.read_csv(r'C:\\Users\\dor00\\PycharmProjects\\Weight-Shape-Decomposition\\data_processed\\test1_1toinf')\n",
    "\n"
   ]
  },
  {
   "cell_type": "code",
   "execution_count": 2,
   "outputs": [
    {
     "data": {
      "text/plain": "     Unnamed: 0      id   Z  True_N  Pred_N  minimal_delta_E_True  \\\n911         911  08_516  10       1       4              0.000000   \n155         155  05_348  10       1       3              0.000000   \n551         551  05_784  10       1       1              0.000000   \n162         162  05_747  10       1       2              0.000000   \n849         849  05_958  10       1       2              0.000000   \n..          ...     ...  ..     ...     ...                   ...   \n581         581  05_253  10     149      31              0.000013   \n553         553  05_787  10     151      28              0.000343   \n760         760  05_428  10     154      33              0.000017   \n806         806  05_560  10     158      29              0.000904   \n477         477  05_545  10     203      28              0.000049   \n\n     min_delta_E_Pred     sum_3d  \n911          0.083305   0.054255  \n155          0.597772   0.069959  \n551          0.000000   0.038355  \n162          0.073489   0.027809  \n849          0.083305   0.046504  \n..                ...        ...  \n581          0.041386  10.366850  \n553          0.060391  10.900403  \n760          0.035893  10.764201  \n806          0.056956  12.741758  \n477          0.043499  15.004629  \n\n[912 rows x 8 columns]",
      "text/html": "<div>\n<style scoped>\n    .dataframe tbody tr th:only-of-type {\n        vertical-align: middle;\n    }\n\n    .dataframe tbody tr th {\n        vertical-align: top;\n    }\n\n    .dataframe thead th {\n        text-align: right;\n    }\n</style>\n<table border=\"1\" class=\"dataframe\">\n  <thead>\n    <tr style=\"text-align: right;\">\n      <th></th>\n      <th>Unnamed: 0</th>\n      <th>id</th>\n      <th>Z</th>\n      <th>True_N</th>\n      <th>Pred_N</th>\n      <th>minimal_delta_E_True</th>\n      <th>min_delta_E_Pred</th>\n      <th>sum_3d</th>\n    </tr>\n  </thead>\n  <tbody>\n    <tr>\n      <th>911</th>\n      <td>911</td>\n      <td>08_516</td>\n      <td>10</td>\n      <td>1</td>\n      <td>4</td>\n      <td>0.000000</td>\n      <td>0.083305</td>\n      <td>0.054255</td>\n    </tr>\n    <tr>\n      <th>155</th>\n      <td>155</td>\n      <td>05_348</td>\n      <td>10</td>\n      <td>1</td>\n      <td>3</td>\n      <td>0.000000</td>\n      <td>0.597772</td>\n      <td>0.069959</td>\n    </tr>\n    <tr>\n      <th>551</th>\n      <td>551</td>\n      <td>05_784</td>\n      <td>10</td>\n      <td>1</td>\n      <td>1</td>\n      <td>0.000000</td>\n      <td>0.000000</td>\n      <td>0.038355</td>\n    </tr>\n    <tr>\n      <th>162</th>\n      <td>162</td>\n      <td>05_747</td>\n      <td>10</td>\n      <td>1</td>\n      <td>2</td>\n      <td>0.000000</td>\n      <td>0.073489</td>\n      <td>0.027809</td>\n    </tr>\n    <tr>\n      <th>849</th>\n      <td>849</td>\n      <td>05_958</td>\n      <td>10</td>\n      <td>1</td>\n      <td>2</td>\n      <td>0.000000</td>\n      <td>0.083305</td>\n      <td>0.046504</td>\n    </tr>\n    <tr>\n      <th>...</th>\n      <td>...</td>\n      <td>...</td>\n      <td>...</td>\n      <td>...</td>\n      <td>...</td>\n      <td>...</td>\n      <td>...</td>\n      <td>...</td>\n    </tr>\n    <tr>\n      <th>581</th>\n      <td>581</td>\n      <td>05_253</td>\n      <td>10</td>\n      <td>149</td>\n      <td>31</td>\n      <td>0.000013</td>\n      <td>0.041386</td>\n      <td>10.366850</td>\n    </tr>\n    <tr>\n      <th>553</th>\n      <td>553</td>\n      <td>05_787</td>\n      <td>10</td>\n      <td>151</td>\n      <td>28</td>\n      <td>0.000343</td>\n      <td>0.060391</td>\n      <td>10.900403</td>\n    </tr>\n    <tr>\n      <th>760</th>\n      <td>760</td>\n      <td>05_428</td>\n      <td>10</td>\n      <td>154</td>\n      <td>33</td>\n      <td>0.000017</td>\n      <td>0.035893</td>\n      <td>10.764201</td>\n    </tr>\n    <tr>\n      <th>806</th>\n      <td>806</td>\n      <td>05_560</td>\n      <td>10</td>\n      <td>158</td>\n      <td>29</td>\n      <td>0.000904</td>\n      <td>0.056956</td>\n      <td>12.741758</td>\n    </tr>\n    <tr>\n      <th>477</th>\n      <td>477</td>\n      <td>05_545</td>\n      <td>10</td>\n      <td>203</td>\n      <td>28</td>\n      <td>0.000049</td>\n      <td>0.043499</td>\n      <td>15.004629</td>\n    </tr>\n  </tbody>\n</table>\n<p>912 rows × 8 columns</p>\n</div>"
     },
     "execution_count": 2,
     "metadata": {},
     "output_type": "execute_result"
    }
   ],
   "source": [
    "df.sort_values('True_N')"
   ],
   "metadata": {
    "collapsed": false,
    "pycharm": {
     "name": "#%%\n"
    }
   }
  },
  {
   "cell_type": "code",
   "execution_count": 12,
   "outputs": [
    {
     "name": "stdout",
     "output_type": "stream",
     "text": [
      "[0.10849239 0.00506257]\n"
     ]
    },
    {
     "name": "stderr",
     "output_type": "stream",
     "text": [
      "c:\\users\\dor00\\pycharmprojects\\weight-shape-decomposition\\venv\\lib\\site-packages\\pandas\\core\\arraylike.py:364: RuntimeWarning: invalid value encountered in sqrt\n",
      "  result = getattr(ufunc, method)(*inputs, **kwargs)\n",
      "C:\\Users\\dor00\\AppData\\Local\\Temp\\ipykernel_5620\\2572301572.py:8: RuntimeWarning: invalid value encountered in sqrt\n",
      "  return np.sqrt(a+b * x**2) - np.sqrt(a)\n"
     ]
    },
    {
     "data": {
      "text/plain": "<Figure size 432x288 with 1 Axes>",
      "image/png": "[encoded data removed]"
     },
     "metadata": {
      "needs_background": "light"
     },
     "output_type": "display_data"
    }
   ],
   "source": [
    "def linear(x, a, b):\n",
    "    return a * x + b\n",
    "\n",
    "def parabolic(x, a, b, c):\n",
    "    return a * x ** 2 + b * x + c\n",
    "\n",
    "def fit1(x, a, b):\n",
    "    return np.sqrt(a+b * x**2) - np.sqrt(a)\n",
    "\n",
    "ax = df.plot(y='sum_3d', x=TRUE_N, style='.')\n",
    "\n",
    "x_name = TRUE_N\n",
    "y_name = 'sum_3d'\n",
    "popt, _ = curve_fit(linear, df[x_name], df[y_name])\n",
    "y_pred = linear(df[x_name], *popt)\n",
    "ax.plot(df[x_name], y_pred)\n",
    "\n",
    "x_name = TRUE_N\n",
    "y_name = 'sum_3d'\n",
    "popt, _ = curve_fit(linear, df[x_name], df[y_name])\n",
    "y_pred = linear(df[x_name], *popt)\n",
    "ax.plot(df[x_name], y_pred)\n",
    "\n",
    "x_name = TRUE_N\n",
    "y_name = 'sum_3d'\n",
    "popt, _ = curve_fit(fit1, df[x_name], df[y_name])\n",
    "y_pred = fit1(df[x_name], *popt)\n",
    "ax.plot(df[x_name], y_pred)\n",
    "\n",
    "print(popt)"
   ],
   "metadata": {
    "collapsed": false,
    "pycharm": {
     "name": "#%%\n"
    }
   }
  },
  {
   "cell_type": "code",
   "execution_count": 35,
   "outputs": [
    {
     "ename": "IndexError",
     "evalue": "too many indices for array: array is 1-dimensional, but 2 were indexed",
     "output_type": "error",
     "traceback": [
      "\u001B[1;31m---------------------------------------------------------------------------\u001B[0m",
      "\u001B[1;31mIndexError\u001B[0m                                Traceback (most recent call last)",
      "Input \u001B[1;32mIn [35]\u001B[0m, in \u001B[0;36m<module>\u001B[1;34m\u001B[0m\n\u001B[0;32m      5\u001B[0m params \u001B[38;5;241m=\u001B[39m model\u001B[38;5;241m.\u001B[39mkernel_\u001B[38;5;241m.\u001B[39mget_params()\n\u001B[0;32m      6\u001B[0m y_pred, std \u001B[38;5;241m=\u001B[39m model\u001B[38;5;241m.\u001B[39mpredict(x[:, np\u001B[38;5;241m.\u001B[39mnewaxis], return_std\u001B[38;5;241m=\u001B[39m\u001B[38;5;28;01mTrue\u001B[39;00m)\n\u001B[1;32m----> 7\u001B[0m plt\u001B[38;5;241m.\u001B[39mplot(df[x_name], \u001B[43mstd\u001B[49m\u001B[43m[\u001B[49m\u001B[38;5;241;43m0\u001B[39;49m\u001B[43m,\u001B[49m\u001B[43m \u001B[49m\u001B[43m:\u001B[49m\u001B[43m]\u001B[49m)\n",
      "\u001B[1;31mIndexError\u001B[0m: too many indices for array: array is 1-dimensional, but 2 were indexed"
     ]
    }
   ],
   "source": [
    "kernel = gp.kernels.ConstantKernel(1.0, (1e-1, 1e3)) * gp.kernels.RBF(10.0, (1e-3, 1e3))\n",
    "model = gp.GaussianProcessRegressor(kernel=kernel, n_restarts_optimizer=10, alpha=0.1, normalize_y=True)\n",
    "x, y = df[x_name].to_numpy(), df[y_name].to_numpy()\n",
    "model.fit(x[:, np.newaxis], y[:, np.newaxis])\n",
    "params = model.kernel_.get_params()\n",
    "y_pred, std = model.predict(x[:, np.newaxis], return_std=True)\n",
    "plt.plot(df[x_name], std[0, :])\n",
    "# test = df[x_name][:, np.newaxis]"
   ],
   "metadata": {
    "collapsed": false,
    "pycharm": {
     "name": "#%%\n"
    }
   }
  },
  {
   "cell_type": "code",
   "execution_count": null,
   "outputs": [],
   "source": [
    "df.plot(x=DE_TRUE, y=ERROR, style='.', color=(1, 0, 0, 0.1))\n",
    "plt.show()"
   ],
   "metadata": {
    "collapsed": false,
    "pycharm": {
     "name": "#%%\n"
    }
   }
  }
 ],
 "metadata": {
  "kernelspec": {
   "display_name": "Python 3",
   "language": "python",
   "name": "python3"
  },
  "language_info": {
   "codemirror_mode": {
    "name": "ipython",
    "version": 2
   },
   "file_extension": ".py",
   "mimetype": "text/x-python",
   "name": "python",
   "nbconvert_exporter": "python",
   "pygments_lexer": "ipython2",
   "version": "2.7.6"
  }
 },
 "nbformat": 4,
 "nbformat_minor": 0
}